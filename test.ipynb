{
 "cells": [
  {
   "cell_type": "code",
   "execution_count": 1,
   "metadata": {},
   "outputs": [],
   "source": [
    "import cv2\n",
    "import mediapipe as mp\n",
    "import numpy as np\n",
    "import winsound as ws"
   ]
  },
  {
   "cell_type": "code",
   "execution_count": 2,
   "metadata": {},
   "outputs": [],
   "source": [
    "mp_holistic=mp.solutions.holistic\n",
    "mp_drawing=mp.solutions.drawing_utils"
   ]
  },
  {
   "cell_type": "code",
   "execution_count": 3,
   "metadata": {},
   "outputs": [],
   "source": [
    "dots={'face':{},'lh':{},'rh':{},'pose':{}}\n",
    "width=0; height=0; channel=0\n",
    "face='face'; left='lh'; right='rh'; pose='pose'"
   ]
  },
  {
   "cell_type": "code",
   "execution_count": 4,
   "metadata": {},
   "outputs": [],
   "source": [
    "def mediapipe_detection(image,model):\n",
    "    image=cv2.cvtColor(image,cv2.COLOR_BGR2RGB)\n",
    "    image.flags.writeable=False\n",
    "    results=model.process(image)\n",
    "    image.flags.writeable=True\n",
    "    image=cv2.cvtColor(image,cv2.COLOR_RGB2BGR)\n",
    "    return image,results"
   ]
  },
  {
   "cell_type": "code",
   "execution_count": 5,
   "metadata": {},
   "outputs": [],
   "source": [
    "def draw_landmarks(image,results):\n",
    "    mp_drawing.draw_landmarks(image,results.face_landmarks,mp_holistic.FACEMESH_CONTOURS)\n",
    "    mp_drawing.draw_landmarks(image,results.pose_landmarks,mp_holistic.POSE_CONNECTIONS)\n",
    "    mp_drawing.draw_landmarks(image,results.right_hand_landmarks,mp_holistic.HAND_CONNECTIONS)\n",
    "    mp_drawing.draw_landmarks(image,results.left_hand_landmarks,mp_holistic.HAND_CONNECTIONS)"
   ]
  },
  {
   "cell_type": "code",
   "execution_count": 6,
   "metadata": {},
   "outputs": [],
   "source": [
    "def collectData(results,dots):\n",
    "    if results.left_hand_landmarks:\n",
    "        for id,lm in enumerate(results.left_hand_landmarks.landmark):\n",
    "            dots['lh'].update({str(id):{'x':int(lm.x*width),'y':int(lm.y*height),'z':int(lm.y*width)}})\n",
    "    else:\n",
    "        dots['lh']={}\n",
    "    \n",
    "    if results.right_hand_landmarks:\n",
    "        for id,lm in enumerate(results.right_hand_landmarks.landmark):\n",
    "            dots['rh'].update({str(id):{'x':int(lm.x*width),'y':int(lm.y*height),'z':int(lm.y*width)}})\n",
    "    else:\n",
    "        dots['lh']={}\n",
    "\n",
    "    if results.pose_landmarks:\n",
    "        for id,lm in enumerate(results.pose_landmarks.landmark):\n",
    "            dots['pose'].update({str(id):{'x':int(lm.x*width),'y':int(lm.y*height),'z':int(lm.y*width)}})\n",
    "    else:\n",
    "        dots['pose']={}\n",
    "\n",
    "    if results.face_landmarks:\n",
    "        for id,lm in enumerate(results.face_landmarks.landmark):\n",
    "            dots['face'].update({str(id):{'x':int(lm.x*width),'y':int(lm.y*height),'z':int(lm.y*width)}})\n",
    "    else:\n",
    "        dots['face']={}"
   ]
  },
  {
   "cell_type": "code",
   "execution_count": 7,
   "metadata": {},
   "outputs": [],
   "source": [
    "def handler(func):\n",
    "    def wrapper(*args):\n",
    "        try:\n",
    "            return func(*args)\n",
    "        except:\n",
    "            return False\n",
    "    return wrapper"
   ]
  },
  {
   "cell_type": "code",
   "execution_count": 8,
   "metadata": {},
   "outputs": [],
   "source": [
    "@handler\n",
    "def intersect(dots,g1,p1,g2,p2):\n",
    "    return abs(dots[g1][str(p1)]['x']-dots[g2][str(p2)]['x'])<20 and abs(dots[g1][str(p1)]['y']-dots[g2][str(p2)]['y'])<20 and abs(dots[g1][str(p1)]['z']-dots[g2][str(p2)]['z'])<20"
   ]
  },
  {
   "cell_type": "code",
   "execution_count": 9,
   "metadata": {},
   "outputs": [],
   "source": [
    "@handler\n",
    "def left_thumb_open(dots):\n",
    "    if abs(dots['lh']['3']['x']-dots['lh']['5']['x'])>30:\n",
    "        return True\n",
    "\n",
    "@handler\n",
    "def left_thumb_closed(dots):\n",
    "    if abs(dots['lh']['3']['x']-dots['lh']['5']['x'])<30:\n",
    "        return True\n",
    "\n",
    "@handler\n",
    "def left_fore_finger_up(dots):\n",
    "    if dots['lh']['8']['y']<dots['lh']['5']['y']:\n",
    "        return True\n",
    "\n",
    "@handler\n",
    "def left_fore_finger_down(dots):\n",
    "    if dots['lh']['8']['y']>dots['lh']['5']['y']:\n",
    "        return True\n",
    "\n",
    "@handler\n",
    "def left_middle_finger_up(dots):\n",
    "    if dots['lh']['12']['y']<dots['lh']['9']['y']:\n",
    "        return True\n",
    "\n",
    "@handler\n",
    "def left_middle_finger_down(dots):\n",
    "    if dots['lh']['12']['y']>dots['lh']['9']['y']:\n",
    "        return True\n",
    "\n",
    "@handler\n",
    "def left_ring_finger_up(dots):\n",
    "    if dots['lh']['16']['y']<dots['lh']['13']['y']:\n",
    "        return True\n",
    "\n",
    "@handler\n",
    "def left_ring_finger_down(dots):\n",
    "    if dots['lh']['16']['y']>dots['lh']['13']['y']:\n",
    "        return True\n",
    "\n",
    "@handler\n",
    "def left_small_finger_up(dots):\n",
    "    if dots['lh']['20']['y']<dots['lh']['17']['y']:\n",
    "        return True\n",
    "\n",
    "@handler\n",
    "def left_small_finger_down(dots):\n",
    "    if dots['lh']['20']['y']>dots['lh']['17']['y']:\n",
    "        return True\n",
    "\n",
    "@handler\n",
    "def left_thumb_up(dots):\n",
    "    if abs(dots['lh']['3']['y']-dots['lh']['5']['y'])>30:\n",
    "        return True\n",
    "\n",
    "@handler\n",
    "def left_thumb_down(dots):\n",
    "    if abs(dots['lh']['3']['y']-dots['lh']['5']['y'])<30:\n",
    "        return True"
   ]
  },
  {
   "cell_type": "code",
   "execution_count": 10,
   "metadata": {},
   "outputs": [],
   "source": [
    "@handler\n",
    "def right_thumb_open(dots):\n",
    "    if abs(dots['rh']['3']['x']-dots['rh']['5']['x'])>30:\n",
    "        return True\n",
    "\n",
    "@handler\n",
    "def right_thumb_closed(dots):\n",
    "    if abs(dots['rh']['3']['x']-dots['rh']['5']['x'])<30:\n",
    "        return True\n",
    "\n",
    "@handler\n",
    "def right_fore_finger_up(dots):\n",
    "    if dots['rh']['8']['y']<dots['rh']['5']['y']:\n",
    "        return True\n",
    "\n",
    "@handler\n",
    "def right_fore_finger_down(dots):\n",
    "    if dots['rh']['8']['y']>dots['rh']['5']['y']:\n",
    "        return True\n",
    "\n",
    "@handler\n",
    "def right_middle_finger_up(dots):\n",
    "    if dots['rh']['12']['y']<dots['rh']['9']['y']:\n",
    "        return True\n",
    "    \n",
    "@handler\n",
    "def right_middle_finger_down(dots):\n",
    "    if dots['rh']['12']['y']>dots['rh']['9']['y']:\n",
    "        return True\n",
    "\n",
    "@handler\n",
    "def right_ring_finger_up(dots):\n",
    "    if dots['rh']['16']['y']<dots['rh']['13']['y']:\n",
    "        return True\n",
    "\n",
    "@handler\n",
    "def right_ring_finger_down(dots):\n",
    "    if dots['rh']['16']['y']>dots['rh']['13']['y']:\n",
    "        return True\n",
    "\n",
    "@handler\n",
    "def right_small_finger_up(dots):\n",
    "    if dots['rh']['20']['y']<dots['rh']['17']['y']:\n",
    "        return True\n",
    "\n",
    "@handler\n",
    "def right_small_finger_down(dots):\n",
    "    if dots['rh']['20']['y']>dots['rh']['17']['y']:\n",
    "        return True\n",
    "\n",
    "@handler\n",
    "def right_thumb_up(dots):\n",
    "    if abs(dots['rh']['3']['y']-dots['rh']['5']['y'])>30:\n",
    "        return True\n",
    "\n",
    "@handler\n",
    "def right_thumb_down(dots):\n",
    "    if abs(dots['rh']['3']['y']-dots['rh']['5']['y'])<30:\n",
    "        return True"
   ]
  },
  {
   "cell_type": "code",
   "execution_count": 11,
   "metadata": {},
   "outputs": [],
   "source": [
    "@handler\n",
    "def iLoveYou(dots):\n",
    "    if (bool(dots['lh']) and left_thumb_open(dots) and left_fore_finger_up(dots) and left_middle_finger_down(dots) and left_ring_finger_down(dots) and left_small_finger_up(dots)) or (bool(dots['rh']) and right_thumb_open(dots) and right_fore_finger_up(dots) and right_middle_finger_down(dots) and right_ring_finger_down(dots) and right_small_finger_up(dots)):\n",
    "        return True\n",
    "    return False"
   ]
  },
  {
   "cell_type": "code",
   "execution_count": 12,
   "metadata": {},
   "outputs": [],
   "source": [
    "@handler\n",
    "def openRightFist(dots):\n",
    "    if(bool(dots['rh']) and right_fore_finger_up(dots) and right_middle_finger_up(dots) and right_ring_finger_up(dots) and right_small_finger_up(dots)):\n",
    "        return True\n",
    "    return False"
   ]
  },
  {
   "cell_type": "code",
   "execution_count": 13,
   "metadata": {},
   "outputs": [],
   "source": [
    "@handler\n",
    "def openLeftFist(dots):\n",
    "    if(bool(dots['lh']) and left_fore_finger_up(dots) and left_middle_finger_up(dots) and left_ring_finger_up(dots) and left_small_finger_up(dots)):\n",
    "        return True\n",
    "    return False"
   ]
  },
  {
   "cell_type": "code",
   "execution_count": 14,
   "metadata": {},
   "outputs": [],
   "source": [
    "@handler\n",
    "def house(dots):\n",
    "    if openLeftFist(dots) and openRightFist(dots) and intersect(dots,left,12,right,12) and abs(dots[right]['0']['x']-dots[left]['0']['x'])>80 and abs(dots[left]['7']['x']-dots[left]['15']['x'])<=10 and abs(dots[right]['7']['x']-dots[right]['15']['x'])<=10:\n",
    "        return True"
   ]
  },
  {
   "cell_type": "code",
   "execution_count": 15,
   "metadata": {},
   "outputs": [],
   "source": [
    "@handler\n",
    "def hello(dots):\n",
    "    return openRightFist(dots) and intersect(dots,face,70,right,8)"
   ]
  },
  {
   "cell_type": "code",
   "execution_count": 16,
   "metadata": {},
   "outputs": [],
   "source": [
    "@handler\n",
    "def thanks(dots):\n",
    "    return openLeftFist(dots) and openRightFist(dots) and intersect(dots,left,12,right,12) and intersect(dots,left,12,face,13) and abs(dots[left]['4']['x']-dots[right]['4']['x'])>80 "
   ]
  },
  {
   "cell_type": "code",
   "execution_count": 17,
   "metadata": {},
   "outputs": [],
   "source": [
    "def printI(image,text:str,*args,color=(0,0,0),thickness=1):\n",
    "    cv2.putText(image,text.format(args),(40,40),cv2.FONT_HERSHEY_TRIPLEX,thickness,color,thickness)"
   ]
  },
  {
   "cell_type": "code",
   "execution_count": 18,
   "metadata": {},
   "outputs": [],
   "source": [
    "flow=[]"
   ]
  },
  {
   "cell_type": "code",
   "execution_count": 19,
   "metadata": {},
   "outputs": [
    {
     "name": "stdout",
     "output_type": "stream",
     "text": [
      "['I Love You', 'House', 'I Love You', 'Thanks', 'Hello']\n"
     ]
    }
   ],
   "source": [
    "cap=cv2.VideoCapture(0)\n",
    "cap.set(3,1280)\n",
    "cap.set(4,700)\n",
    "holistic=mp_holistic.Holistic()\n",
    "while cap.isOpened():\n",
    "    ret,frame=cap.read()\n",
    "\n",
    "    image,results=mediapipe_detection(frame,holistic)\n",
    "\n",
    "    width,height,channel=image.shape\n",
    "\n",
    "    collectData(results,dots)\n",
    "\n",
    "    try:\n",
    "        if iLoveYou(dots):\n",
    "            printI(image,'ILoveYou')\n",
    "            if flow==[] or flow[-1]!='I Love You':\n",
    "                flow.append('I Love You')\n",
    "        elif house(dots):\n",
    "            printI(image,'House')\n",
    "            if flow==[] or flow[-1]!='House':\n",
    "                flow.append('House')\n",
    "        elif hello(dots):\n",
    "            printI(image,'Hello')\n",
    "            if flow==[] or flow[-1]!='Hello':\n",
    "                flow.append('Hello')\n",
    "        elif thanks(dots):\n",
    "            printI(image,'Thanks')\n",
    "            if flow==[] or flow[-1]!='Thanks':\n",
    "                flow.append('Thanks')\n",
    "        else:\n",
    "            printI(image,' ')\n",
    "        \n",
    "    \n",
    "    except Exception as e:\n",
    "        print('\\n---------------------------')\n",
    "        print(e)\n",
    "        print('---------------------------\\n')\n",
    "\n",
    "    draw_landmarks(image,results)\n",
    "    \n",
    "    cv2.imshow('Action Recognition',image)\n",
    "\n",
    "    key = cv2.waitKey(10)\n",
    "\n",
    "    if key & 0xFF == ord('q'):\n",
    "        ws.Beep(2000, 500)\n",
    "        break\n",
    "    elif key & 0xFF == ord('c'):\n",
    "        print(flow)\n",
    "        flow=[]\n",
    "        ws.Beep(2000, 500)\n",
    "\n",
    "\n",
    "cap.release()\n",
    "cv2.destroyAllWindows()"
   ]
  },
  {
   "cell_type": "code",
   "execution_count": 20,
   "metadata": {},
   "outputs": [],
   "source": [
    "cap.release()\n",
    "cv2.destroyAllWindows()"
   ]
  }
 ],
 "metadata": {
  "kernelspec": {
   "display_name": "Python 3",
   "language": "python",
   "name": "python3"
  },
  "language_info": {
   "codemirror_mode": {
    "name": "ipython",
    "version": 3
   },
   "file_extension": ".py",
   "mimetype": "text/x-python",
   "name": "python",
   "nbconvert_exporter": "python",
   "pygments_lexer": "ipython3",
   "version": "3.10.10"
  }
 },
 "nbformat": 4,
 "nbformat_minor": 2
}
